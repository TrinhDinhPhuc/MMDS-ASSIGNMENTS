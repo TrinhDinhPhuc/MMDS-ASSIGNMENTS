{
 "cells": [
  {
   "cell_type": "markdown",
   "metadata": {},
   "source": [
    "### Computing page rank"
   ]
  },
  {
   "cell_type": "code",
   "execution_count": 2,
   "metadata": {
    "collapsed": false,
    "jupyter": {
     "outputs_hidden": false
    }
   },
   "outputs": [],
   "source": [
    "#!pip install daft\n",
    "import daft\n",
    "import matplotlib.pyplot as plt\n",
    "import numpy as np\n",
    "%matplotlib inline"
   ]
  },
  {
   "cell_type": "markdown",
   "metadata": {},
   "source": [
    "__Question 1 - double means line to itself__\n",
    "\n",
    "Suppose we compute PageRank with a β of 0.7, and we introduce the additional constraint that the sum of the PageRanks of the three pages must be 3, to handle the problem that otherwise any multiple of a solution will also be a solution. Compute the PageRanks a, b, and c of the three pages A, B, and C, respectively. Then, identify from the list below, the true statement.\n",
    "\n",
    "a + c = 2.745\n",
    "a + c = 2.595\n",
    "a + c = 1.985\n",
    "b + c = 2.5"
   ]
  },
  {
   "cell_type": "code",
   "execution_count": 3,
   "metadata": {
    "collapsed": false,
    "jupyter": {
     "outputs_hidden": false
    }
   },
   "outputs": [
    {
     "ename": "SameLocationError",
     "evalue": "Attempted to add edge between `c` and `c` but they share the same location.",
     "output_type": "error",
     "traceback": [
      "\u001b[0;31m---------------------------------------------------------------------------\u001b[0m",
      "\u001b[0;31mSameLocationError\u001b[0m                         Traceback (most recent call last)",
      "\u001b[0;32m<ipython-input-3-222cc7e63667>\u001b[0m in \u001b[0;36m<module>\u001b[0;34m\u001b[0m\n\u001b[1;32m     15\u001b[0m \u001b[0;34m\u001b[0m\u001b[0m\n\u001b[1;32m     16\u001b[0m \u001b[0;31m# Render and save.\u001b[0m\u001b[0;34m\u001b[0m\u001b[0;34m\u001b[0m\u001b[0;34m\u001b[0m\u001b[0m\n\u001b[0;32m---> 17\u001b[0;31m \u001b[0mpgm\u001b[0m\u001b[0;34m.\u001b[0m\u001b[0mrender\u001b[0m\u001b[0;34m(\u001b[0m\u001b[0;34m)\u001b[0m\u001b[0;34m\u001b[0m\u001b[0;34m\u001b[0m\u001b[0m\n\u001b[0m",
      "\u001b[0;32m~/anaconda3/lib/python3.7/site-packages/daft.py\u001b[0m in \u001b[0;36mrender\u001b[0;34m(self, dpi)\u001b[0m\n\u001b[1;32m    428\u001b[0m \u001b[0;34m\u001b[0m\u001b[0m\n\u001b[1;32m    429\u001b[0m         \u001b[0;32mfor\u001b[0m \u001b[0medge\u001b[0m \u001b[0;32min\u001b[0m \u001b[0mself\u001b[0m\u001b[0;34m.\u001b[0m\u001b[0m_edges\u001b[0m\u001b[0;34m:\u001b[0m\u001b[0;34m\u001b[0m\u001b[0;34m\u001b[0m\u001b[0m\n\u001b[0;32m--> 430\u001b[0;31m             \u001b[0medge\u001b[0m\u001b[0;34m.\u001b[0m\u001b[0mrender\u001b[0m\u001b[0;34m(\u001b[0m\u001b[0mself\u001b[0m\u001b[0;34m.\u001b[0m\u001b[0m_ctx\u001b[0m\u001b[0;34m)\u001b[0m\u001b[0;34m\u001b[0m\u001b[0;34m\u001b[0m\u001b[0m\n\u001b[0m\u001b[1;32m    431\u001b[0m \u001b[0;34m\u001b[0m\u001b[0m\n\u001b[1;32m    432\u001b[0m         \u001b[0;32mfor\u001b[0m \u001b[0mname\u001b[0m \u001b[0;32min\u001b[0m \u001b[0mself\u001b[0m\u001b[0;34m.\u001b[0m\u001b[0m_nodes\u001b[0m\u001b[0;34m:\u001b[0m\u001b[0;34m\u001b[0m\u001b[0;34m\u001b[0m\u001b[0m\n",
      "\u001b[0;32m~/anaconda3/lib/python3.7/site-packages/daft.py\u001b[0m in \u001b[0;36mrender\u001b[0;34m(self, ctx)\u001b[0m\n\u001b[1;32m    915\u001b[0m \u001b[0;34m\u001b[0m\u001b[0m\n\u001b[1;32m    916\u001b[0m             \u001b[0;31m# Build an arrow.\u001b[0m\u001b[0;34m\u001b[0m\u001b[0;34m\u001b[0m\u001b[0;34m\u001b[0m\u001b[0m\n\u001b[0;32m--> 917\u001b[0;31m             \u001b[0margs\u001b[0m \u001b[0;34m=\u001b[0m \u001b[0mself\u001b[0m\u001b[0;34m.\u001b[0m\u001b[0m_get_coords\u001b[0m\u001b[0;34m(\u001b[0m\u001b[0mctx\u001b[0m\u001b[0;34m)\u001b[0m\u001b[0;34m\u001b[0m\u001b[0;34m\u001b[0m\u001b[0m\n\u001b[0m\u001b[1;32m    918\u001b[0m \u001b[0;34m\u001b[0m\u001b[0m\n\u001b[1;32m    919\u001b[0m             \u001b[0;31m# zero lengh arrow produce error\u001b[0m\u001b[0;34m\u001b[0m\u001b[0;34m\u001b[0m\u001b[0;34m\u001b[0m\u001b[0m\n",
      "\u001b[0;32m~/anaconda3/lib/python3.7/site-packages/daft.py\u001b[0m in \u001b[0;36m_get_coords\u001b[0;34m(self, ctx)\u001b[0m\n\u001b[1;32m    874\u001b[0m         \u001b[0mx2\u001b[0m\u001b[0;34m,\u001b[0m \u001b[0my2\u001b[0m \u001b[0;34m=\u001b[0m \u001b[0mctx\u001b[0m\u001b[0;34m.\u001b[0m\u001b[0mconvert\u001b[0m\u001b[0;34m(\u001b[0m\u001b[0mself\u001b[0m\u001b[0;34m.\u001b[0m\u001b[0mnode2\u001b[0m\u001b[0;34m.\u001b[0m\u001b[0mx\u001b[0m\u001b[0;34m,\u001b[0m \u001b[0mself\u001b[0m\u001b[0;34m.\u001b[0m\u001b[0mnode2\u001b[0m\u001b[0;34m.\u001b[0m\u001b[0my\u001b[0m\u001b[0;34m)\u001b[0m\u001b[0;34m\u001b[0m\u001b[0;34m\u001b[0m\u001b[0m\n\u001b[1;32m    875\u001b[0m \u001b[0;34m\u001b[0m\u001b[0m\n\u001b[0;32m--> 876\u001b[0;31m         \u001b[0mx3\u001b[0m\u001b[0;34m,\u001b[0m \u001b[0my3\u001b[0m \u001b[0;34m=\u001b[0m \u001b[0mself\u001b[0m\u001b[0;34m.\u001b[0m\u001b[0mnode1\u001b[0m\u001b[0;34m.\u001b[0m\u001b[0mget_frontier_coord\u001b[0m\u001b[0;34m(\u001b[0m\u001b[0;34m(\u001b[0m\u001b[0mx2\u001b[0m\u001b[0;34m,\u001b[0m \u001b[0my2\u001b[0m\u001b[0;34m)\u001b[0m\u001b[0;34m,\u001b[0m \u001b[0mctx\u001b[0m\u001b[0;34m,\u001b[0m \u001b[0mself\u001b[0m\u001b[0;34m)\u001b[0m\u001b[0;34m\u001b[0m\u001b[0;34m\u001b[0m\u001b[0m\n\u001b[0m\u001b[1;32m    877\u001b[0m         \u001b[0mx4\u001b[0m\u001b[0;34m,\u001b[0m \u001b[0my4\u001b[0m \u001b[0;34m=\u001b[0m \u001b[0mself\u001b[0m\u001b[0;34m.\u001b[0m\u001b[0mnode2\u001b[0m\u001b[0;34m.\u001b[0m\u001b[0mget_frontier_coord\u001b[0m\u001b[0;34m(\u001b[0m\u001b[0;34m(\u001b[0m\u001b[0mx1\u001b[0m\u001b[0;34m,\u001b[0m \u001b[0my1\u001b[0m\u001b[0;34m)\u001b[0m\u001b[0;34m,\u001b[0m \u001b[0mctx\u001b[0m\u001b[0;34m,\u001b[0m \u001b[0mself\u001b[0m\u001b[0;34m)\u001b[0m\u001b[0;34m\u001b[0m\u001b[0;34m\u001b[0m\u001b[0m\n\u001b[1;32m    878\u001b[0m \u001b[0;34m\u001b[0m\u001b[0m\n",
      "\u001b[0;32m~/anaconda3/lib/python3.7/site-packages/daft.py\u001b[0m in \u001b[0;36mget_frontier_coord\u001b[0;34m(self, target_xy, ctx, edge)\u001b[0m\n\u001b[1;32m    764\u001b[0m             \u001b[0mdx\u001b[0m\u001b[0;34m,\u001b[0m \u001b[0mdy\u001b[0m \u001b[0;34m=\u001b[0m \u001b[0mx2\u001b[0m \u001b[0;34m-\u001b[0m \u001b[0mx1\u001b[0m\u001b[0;34m,\u001b[0m \u001b[0my2\u001b[0m \u001b[0;34m-\u001b[0m \u001b[0my1\u001b[0m\u001b[0;34m\u001b[0m\u001b[0;34m\u001b[0m\u001b[0m\n\u001b[1;32m    765\u001b[0m             \u001b[0;32mif\u001b[0m \u001b[0mdx\u001b[0m \u001b[0;34m==\u001b[0m \u001b[0;36m0.0\u001b[0m \u001b[0;32mand\u001b[0m \u001b[0mdy\u001b[0m \u001b[0;34m==\u001b[0m \u001b[0;36m0.0\u001b[0m\u001b[0;34m:\u001b[0m\u001b[0;34m\u001b[0m\u001b[0;34m\u001b[0m\u001b[0m\n\u001b[0;32m--> 766\u001b[0;31m                 \u001b[0;32mraise\u001b[0m \u001b[0mSameLocationError\u001b[0m\u001b[0;34m(\u001b[0m\u001b[0medge\u001b[0m\u001b[0;34m)\u001b[0m\u001b[0;34m\u001b[0m\u001b[0;34m\u001b[0m\u001b[0m\n\u001b[0m\u001b[1;32m    767\u001b[0m             \u001b[0mdist1\u001b[0m \u001b[0;34m=\u001b[0m \u001b[0mnp\u001b[0m\u001b[0;34m.\u001b[0m\u001b[0msqrt\u001b[0m\u001b[0;34m(\u001b[0m\u001b[0mdy\u001b[0m \u001b[0;34m*\u001b[0m \u001b[0mdy\u001b[0m \u001b[0;34m+\u001b[0m \u001b[0mdx\u001b[0m \u001b[0;34m*\u001b[0m \u001b[0mdx\u001b[0m \u001b[0;34m/\u001b[0m \u001b[0mfloat\u001b[0m\u001b[0;34m(\u001b[0m\u001b[0maspect\u001b[0m \u001b[0;34m*\u001b[0m \u001b[0maspect\u001b[0m\u001b[0;34m)\u001b[0m\u001b[0;34m)\u001b[0m\u001b[0;34m\u001b[0m\u001b[0;34m\u001b[0m\u001b[0m\n\u001b[1;32m    768\u001b[0m \u001b[0;34m\u001b[0m\u001b[0m\n",
      "\u001b[0;31mSameLocationError\u001b[0m: Attempted to add edge between `c` and `c` but they share the same location."
     ]
    },
    {
     "data": {
      "image/png": "[encoded data removed]",
      "text/plain": [
       "<Figure size 170.079x113.386 with 1 Axes>"
      ]
     },
     "metadata": {},
     "output_type": "display_data"
    }
   ],
   "source": [
    "# Instantiate the PGM.\n",
    "pgm = daft.PGM([3, 2], origin=[0, 0], observed_style=\"inner\", )\n",
    "\n",
    "\n",
    "# Hierarchical parameters.\n",
    "pgm.add_node(daft.Node(\"a\", r\"a\", 1., 1.5))\n",
    "pgm.add_node(daft.Node(\"b\", r\"b\", 2.5, 1.5))\n",
    "pgm.add_node(daft.Node(\"c\", r\"c\", 1.5, 0.5, observed=True))\n",
    "\n",
    "# Add in the edges.\n",
    "pgm.add_edge(\"a\", \"b\")\n",
    "pgm.add_edge(\"b\", \"c\")\n",
    "pgm.add_edge(\"a\", \"c\")\n",
    "pgm.add_edge(\"c\", \"c\")\n",
    "\n",
    "# Render and save.\n",
    "pgm.render()\n"
   ]
  },
  {
   "cell_type": "code",
   "execution_count": 4,
   "metadata": {
    "collapsed": false,
    "jupyter": {
     "outputs_hidden": false
    }
   },
   "outputs": [
    {
     "name": "stdout",
     "output_type": "stream",
     "text": [
      "[[ 0.1   0.1   0.1 ]\n",
      " [ 0.45  0.1   0.1 ]\n",
      " [ 0.45  0.8   0.8 ]]\n",
      "3.0\n"
     ]
    }
   ],
   "source": [
    "beta= 0.7\n",
    "nodes = 3\n",
    "M = np.matrix([[0,0,0], [0.5,0,0], [0.5,1,1]])\n",
    "#print M\n",
    "e = np.matrix(np.repeat(1, nodes))\n",
    "\n",
    "formula = beta*M+(1-beta)*(1./nodes)*np.multiply(e, e.T)\n",
    "print formula\n",
    "print np.sum(formula)"
   ]
  },
  {
   "cell_type": "code",
   "execution_count": 37,
   "metadata": {
    "collapsed": false,
    "jupyter": {
     "outputs_hidden": false
    }
   },
   "outputs": [
    {
     "name": "stdout",
     "output_type": "stream",
     "text": [
      "2.595\n",
      "2.7\n"
     ]
    }
   ],
   "source": [
    "#constraint that sum of page ranks adds up to 3\n",
    "r = np.matrix([1., 1., 1.]).T\n",
    "#r = np.matrix([1./3, 1./3, 1./3]).T\n",
    "#print r.shape\n",
    "\n",
    "for _ in range(5):\n",
    "    r = np.dot(formula,r) \n",
    "    \n",
    "print r[0,0] + r[2,0]\n",
    "print r[1,0] + r[2,0]"
   ]
  },
  {
   "cell_type": "markdown",
   "metadata": {},
   "source": [
    "Answer is A + C equals 2.595"
   ]
  },
  {
   "cell_type": "markdown",
   "metadata": {},
   "source": [
    "__Question 2__\n",
    "\n",
    "Suppose we compute PageRank with β=0.85. Write the equations for the PageRanks a, b, and c of the three pages A, B, and C, respectively. Then, identify in the list below, one of the equations.\n",
    "\n",
    "b = .575a + .15c\n",
    "c = b + .575a\n",
    ".85a = c + .15b\n",
    ".95b = .475a + .05c"
   ]
  },
  {
   "cell_type": "code",
   "execution_count": 25,
   "metadata": {
    "collapsed": false,
    "jupyter": {
     "outputs_hidden": false
    }
   },
   "outputs": [
    {
     "data": {
      "text/plain": [
       "<matplotlib.axes.Axes at 0xbc53be0>"
      ]
     },
     "execution_count": 25,
     "metadata": {},
     "output_type": "execute_result"
    },
    {
     "data": {
      "image/png": "[encoded data removed]",
      "text/plain": [
       "<matplotlib.figure.Figure at 0xbc87b70>"
      ]
     },
     "metadata": {},
     "output_type": "display_data"
    }
   ],
   "source": [
    "# Instantiate the PGM.\n",
    "pgm = daft.PGM([3, 2], origin=[0, 0], observed_style=\"inner\", )\n",
    "\n",
    "\n",
    "# Hierarchical parameters.\n",
    "pgm.add_node(daft.Node(\"a\", r\"a\", 1., 1.5))\n",
    "pgm.add_node(daft.Node(\"b\", r\"b\", 2.5, 1.5))\n",
    "pgm.add_node(daft.Node(\"c\", r\"c\", 1.5, 0.5))\n",
    "\n",
    "# Add in the edges.\n",
    "pgm.add_edge(\"a\", \"b\")\n",
    "pgm.add_edge(\"b\", \"c\")\n",
    "pgm.add_edge(\"a\", \"c\")\n",
    "pgm.add_edge(\"c\", \"a\")\n",
    "\n",
    "# Render and save.\n",
    "pgm.render()\n"
   ]
  },
  {
   "cell_type": "code",
   "execution_count": 38,
   "metadata": {
    "collapsed": false,
    "jupyter": {
     "outputs_hidden": false
    }
   },
   "outputs": [
    {
     "name": "stdout",
     "output_type": "stream",
     "text": [
      "[[ 0.05   0.05   0.9  ]\n",
      " [ 0.475  0.05   0.05 ]\n",
      " [ 0.475  0.9    0.05 ]]\n",
      "0.653492851563 0.855468923828\n",
      "1.16181808594 1.3346890625\n",
      "1.00698570313 1.25984201367\n",
      "0.620818208984 0.620818208984\n"
     ]
    }
   ],
   "source": [
    "beta= 0.85\n",
    "nodes = 3\n",
    "M = np.matrix([[0,0,1], [0.5,0,0], [0.5,1,0]])\n",
    "#print M\n",
    "e = np.matrix(np.repeat(1, nodes))\n",
    "\n",
    "formula = beta*M+(1-beta)*(1./nodes)*np.multiply(e, e.T)\n",
    "print formula\n",
    "\n",
    "#constraint that sum of page ranks adds up to 3\n",
    "r = np.matrix([1., 1., 1.]).T\n",
    "#r = np.matrix([1./3, 1./3, 1./3]).T\n",
    "#print r.shape\n",
    "\n",
    "for _ in range(5):\n",
    "    r = np.dot(formula,r) \n",
    "    \n",
    "a, b, c= r[0,0], r[1,0], r[2,0]\n",
    "\n",
    "print b, .575*a + .15*c \n",
    "print c, b + .575*a \n",
    "print .85*a, c + .15*b \n",
    "print .95*b, .475*a + .05*c   #this one is correct!"
   ]
  },
  {
   "cell_type": "markdown",
   "metadata": {},
   "source": [
    "__Question 3 -web links as above__\n",
    "\n",
    "Assuming no \"taxation,\" compute the PageRanks a, b, and c of the three pages A, B, and C, using iteration, starting with the \"0th\" iteration where all three pages have rank a = b = c = 1. Compute as far as the 5th iteration, and also determine what the PageRanks are in the limit. Then, identify the true statement from the list below.\n",
    "\n",
    "After iteration 4, b = 11/16\n",
    "In the limit, b = 1/2\n",
    "In the limit, b = 5/8\n",
    "In the limit, b = 3/5"
   ]
  },
  {
   "cell_type": "code",
   "execution_count": 42,
   "metadata": {
    "collapsed": false,
    "jupyter": {
     "outputs_hidden": false
    }
   },
   "outputs": [
    {
     "name": "stdout",
     "output_type": "stream",
     "text": [
      "[[ 0.   0.   1. ]\n",
      " [ 0.5  0.   0. ]\n",
      " [ 0.5  1.   0. ]]\n",
      "0.6\n"
     ]
    }
   ],
   "source": [
    "beta= 0.85\n",
    "nodes = 3\n",
    "M = np.matrix([[0,0,1], [0.5,0,0], [0.5,1,0]])\n",
    "e = np.matrix(np.repeat(1, nodes))\n",
    "\n",
    "formula = M #+(1-beta)*(1./nodes)*np.multiply(e, e.T)\n",
    "print formula\n",
    "\n",
    "#constraint that sum of page ranks adds up to 3\n",
    "r = np.matrix([1., 1., 1.]).T\n",
    "#r = np.matrix([1./3, 1./3, 1./3]).T\n",
    "#print r.shape\n",
    "\n",
    "for _ in range(1000):\n",
    "    r = np.dot(formula,r) \n",
    "    \n",
    "a, b, c= r[0,0], r[1,0], r[2,0]\n",
    "print b"
   ]
  },
  {
   "cell_type": "markdown",
   "metadata": {},
   "source": [
    "__Question 4__\n",
    "\n",
    "Suppose our input data to a map-reduce operation consists of integer values (the keys are not important). The map function takes an integer i and produces the list of pairs (p,i) such that p is a prime divisor of i. For example, map(12) = [(2,12), (3,12)].\n",
    "The reduce function is addition. That is, reduce(p, [i1, i2, ...,ik]) is (p,i1+i2+...+ik).\n",
    "\n",
    "Compute the output, if the input is the set of integers 15, 21, 24, 30, 49. Then, identify, in the list below, one of the pairs in the output.\n",
    "\n",
    "(2,47)\n",
    "(5,45)\n",
    "(3,75)\n",
    "(7,48)"
   ]
  },
  {
   "cell_type": "code",
   "execution_count": 48,
   "metadata": {
    "collapsed": false,
    "jupyter": {
     "outputs_hidden": false
    }
   },
   "outputs": [
    {
     "name": "stdout",
     "output_type": "stream",
     "text": [
      "{2: 54, 3: 139, 5: 45, 7: 70}\n"
     ]
    }
   ],
   "source": [
    "pairs = [(3, 15), (5, 15), (3, 21), (7, 21), (2,24), (3,24), (2,30), (3,30), (5,30), (3, 49), (7, 49)]\n",
    "d = {}\n",
    "for prime, num in pairs:\n",
    "    d[prime] = d.get(prime, 0) + num\n",
    "    \n",
    "print d"
   ]
  },
  {
   "cell_type": "code",
   "execution_count": null,
   "metadata": {
    "collapsed": false,
    "jupyter": {
     "outputs_hidden": false
    }
   },
   "outputs": [],
   "source": []
  }
 ],
 "metadata": {
  "kernelspec": {
   "display_name": "Python 3",
   "language": "python",
   "name": "python3"
  },
  "language_info": {
   "codemirror_mode": {
    "name": "ipython",
    "version": 3
   },
   "file_extension": ".py",
   "mimetype": "text/x-python",
   "name": "python",
   "nbconvert_exporter": "python",
   "pygments_lexer": "ipython3",
   "version": "3.7.4"
  }
 },
 "nbformat": 4,
 "nbformat_minor": 4
}
